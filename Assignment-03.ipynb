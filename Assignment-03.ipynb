{
 "cells": [
  {
   "cell_type": "markdown",
   "id": "f90dd001",
   "metadata": {},
   "source": [
    "Q1: K-Fold Cross Validation  for Multiple  Linear Regression (Least Square Error Fit)  \n",
    "Download the dataset regarding USA  House Price Predictio"
   ]
  },
  {
   "cell_type": "code",
   "execution_count": 3,
   "id": "bb91754e",
   "metadata": {},
   "outputs": [],
   "source": [
    "import pandas as pd\n",
    "import numpy as np\n",
    "from sklearn.model_selection import KFold, train_test_split\n",
    "from sklearn.preprocessing import StandardScaler\n",
    "from sklearn.metrics import r2_score"
   ]
  },
  {
   "cell_type": "markdown",
   "id": "6eb258b8",
   "metadata": {},
   "source": [
    "(a) Divide  the dataset into input features (all columns except price) and output variable (price) "
   ]
  },
  {
   "cell_type": "code",
   "execution_count": null,
   "id": "6d382ceb",
   "metadata": {},
   "outputs": [
    {
     "data": {
      "text/html": [
       "<div>\n",
       "<style scoped>\n",
       "    .dataframe tbody tr th:only-of-type {\n",
       "        vertical-align: middle;\n",
       "    }\n",
       "\n",
       "    .dataframe tbody tr th {\n",
       "        vertical-align: top;\n",
       "    }\n",
       "\n",
       "    .dataframe thead th {\n",
       "        text-align: right;\n",
       "    }\n",
       "</style>\n",
       "<table border=\"1\" class=\"dataframe\">\n",
       "  <thead>\n",
       "    <tr style=\"text-align: right;\">\n",
       "      <th></th>\n",
       "      <th>Avg. Area Income</th>\n",
       "      <th>Avg. Area House Age</th>\n",
       "      <th>Avg. Area Number of Rooms</th>\n",
       "      <th>Avg. Area Number of Bedrooms</th>\n",
       "      <th>Area Population</th>\n",
       "    </tr>\n",
       "  </thead>\n",
       "  <tbody>\n",
       "    <tr>\n",
       "      <th>0</th>\n",
       "      <td>79545.45857</td>\n",
       "      <td>5.682861</td>\n",
       "      <td>7.009188</td>\n",
       "      <td>4.09</td>\n",
       "      <td>23086.80050</td>\n",
       "    </tr>\n",
       "    <tr>\n",
       "      <th>1</th>\n",
       "      <td>79248.64245</td>\n",
       "      <td>6.002900</td>\n",
       "      <td>6.730821</td>\n",
       "      <td>3.09</td>\n",
       "      <td>40173.07217</td>\n",
       "    </tr>\n",
       "    <tr>\n",
       "      <th>2</th>\n",
       "      <td>61287.06718</td>\n",
       "      <td>5.865890</td>\n",
       "      <td>8.512727</td>\n",
       "      <td>5.13</td>\n",
       "      <td>36882.15940</td>\n",
       "    </tr>\n",
       "    <tr>\n",
       "      <th>3</th>\n",
       "      <td>63345.24005</td>\n",
       "      <td>7.188236</td>\n",
       "      <td>5.586729</td>\n",
       "      <td>3.26</td>\n",
       "      <td>34310.24283</td>\n",
       "    </tr>\n",
       "    <tr>\n",
       "      <th>4</th>\n",
       "      <td>59982.19723</td>\n",
       "      <td>5.040555</td>\n",
       "      <td>7.839388</td>\n",
       "      <td>4.23</td>\n",
       "      <td>26354.10947</td>\n",
       "    </tr>\n",
       "  </tbody>\n",
       "</table>\n",
       "</div>"
      ],
      "text/plain": [
       "   Avg. Area Income  Avg. Area House Age  Avg. Area Number of Rooms  \\\n",
       "0       79545.45857             5.682861                   7.009188   \n",
       "1       79248.64245             6.002900                   6.730821   \n",
       "2       61287.06718             5.865890                   8.512727   \n",
       "3       63345.24005             7.188236                   5.586729   \n",
       "4       59982.19723             5.040555                   7.839388   \n",
       "\n",
       "   Avg. Area Number of Bedrooms  Area Population  \n",
       "0                          4.09      23086.80050  \n",
       "1                          3.09      40173.07217  \n",
       "2                          5.13      36882.15940  \n",
       "3                          3.26      34310.24283  \n",
       "4                          4.23      26354.10947  "
      ]
     },
     "execution_count": 1,
     "metadata": {},
     "output_type": "execute_result"
    }
   ],
   "source": [
    "df = pd.read_csv(\"USA_Housing.csv\")\n",
    "x = df.drop(columns=[\"Price\"])\n",
    "columns = x.columns\n",
    "y = df[\"Price\"]\n",
    "x.head()"
   ]
  },
  {
   "cell_type": "markdown",
   "id": "38a61e2c",
   "metadata": {},
   "source": [
    "(b) Scale the values of input features"
   ]
  },
  {
   "cell_type": "code",
   "execution_count": null,
   "id": "03898bb3",
   "metadata": {},
   "outputs": [
    {
     "data": {
      "text/html": [
       "<div>\n",
       "<style scoped>\n",
       "    .dataframe tbody tr th:only-of-type {\n",
       "        vertical-align: middle;\n",
       "    }\n",
       "\n",
       "    .dataframe tbody tr th {\n",
       "        vertical-align: top;\n",
       "    }\n",
       "\n",
       "    .dataframe thead th {\n",
       "        text-align: right;\n",
       "    }\n",
       "</style>\n",
       "<table border=\"1\" class=\"dataframe\">\n",
       "  <thead>\n",
       "    <tr style=\"text-align: right;\">\n",
       "      <th></th>\n",
       "      <th>Avg. Area Income</th>\n",
       "      <th>Avg. Area House Age</th>\n",
       "      <th>Avg. Area Number of Rooms</th>\n",
       "      <th>Avg. Area Number of Bedrooms</th>\n",
       "      <th>Area Population</th>\n",
       "    </tr>\n",
       "  </thead>\n",
       "  <tbody>\n",
       "    <tr>\n",
       "      <th>0</th>\n",
       "      <td>1.028660</td>\n",
       "      <td>-0.296927</td>\n",
       "      <td>0.021274</td>\n",
       "      <td>0.088062</td>\n",
       "      <td>-1.317599</td>\n",
       "    </tr>\n",
       "    <tr>\n",
       "      <th>1</th>\n",
       "      <td>1.000808</td>\n",
       "      <td>0.025902</td>\n",
       "      <td>-0.255506</td>\n",
       "      <td>-0.722301</td>\n",
       "      <td>0.403999</td>\n",
       "    </tr>\n",
       "    <tr>\n",
       "      <th>2</th>\n",
       "      <td>-0.684629</td>\n",
       "      <td>-0.112303</td>\n",
       "      <td>1.516243</td>\n",
       "      <td>0.930840</td>\n",
       "      <td>0.072410</td>\n",
       "    </tr>\n",
       "    <tr>\n",
       "      <th>3</th>\n",
       "      <td>-0.491499</td>\n",
       "      <td>1.221572</td>\n",
       "      <td>-1.393077</td>\n",
       "      <td>-0.584540</td>\n",
       "      <td>-0.186734</td>\n",
       "    </tr>\n",
       "    <tr>\n",
       "      <th>4</th>\n",
       "      <td>-0.807073</td>\n",
       "      <td>-0.944834</td>\n",
       "      <td>0.846742</td>\n",
       "      <td>0.201513</td>\n",
       "      <td>-0.988387</td>\n",
       "    </tr>\n",
       "  </tbody>\n",
       "</table>\n",
       "</div>"
      ],
      "text/plain": [
       "   Avg. Area Income  Avg. Area House Age  Avg. Area Number of Rooms  \\\n",
       "0          1.028660            -0.296927                   0.021274   \n",
       "1          1.000808             0.025902                  -0.255506   \n",
       "2         -0.684629            -0.112303                   1.516243   \n",
       "3         -0.491499             1.221572                  -1.393077   \n",
       "4         -0.807073            -0.944834                   0.846742   \n",
       "\n",
       "   Avg. Area Number of Bedrooms  Area Population  \n",
       "0                      0.088062        -1.317599  \n",
       "1                     -0.722301         0.403999  \n",
       "2                      0.930840         0.072410  \n",
       "3                     -0.584540        -0.186734  \n",
       "4                      0.201513        -0.988387  "
      ]
     },
     "execution_count": 2,
     "metadata": {},
     "output_type": "execute_result"
    }
   ],
   "source": [
    "sc = StandardScaler()\n",
    "x_scaled = sc.fit_transform(x)\n",
    "x = pd.DataFrame(x_scaled, columns=columns)\n",
    "x.head()"
   ]
  },
  {
   "cell_type": "markdown",
   "id": "241afa2f",
   "metadata": {},
   "source": [
    "(c) Divide  input and output features into five folds."
   ]
  },
  {
   "cell_type": "code",
   "execution_count": 6,
   "id": "a07c72ac",
   "metadata": {},
   "outputs": [],
   "source": [
    "kf = KFold(n_splits=5, shuffle=True, random_state=42)"
   ]
  },
  {
   "cell_type": "markdown",
   "id": "00ed6123",
   "metadata": {},
   "source": [
    "(d) Run five iterations, in each iteration consider one-fold as test set and remaining \n",
    "four sets as training set. Find the beta (𝛽) matrix, predicted values, and R2_score \n",
    "for each iteration using least square error fit. "
   ]
  },
  {
   "cell_type": "code",
   "execution_count": null,
   "id": "c206e6a7",
   "metadata": {},
   "outputs": [],
   "source": [
    "best_r2 = -np.inf\n",
    "best_beta = None\n",
    "r2_scores = []\n",
    "\n",
    "for train_idx, test_idx in kf.split(x):\n",
    "    x_train, x_test = x.iloc[train_idx], x.iloc[test_idx]\n",
    "    y_train, y_test = y.iloc[train_idx], y.iloc[test_idx]\n",
    "    \n",
    "    x_train_new = np.hstack([np.ones((x_train.shape[0],1)), x_train])\n",
    "    x_test_new = np.hstack([np.ones((x_test.shape[0],1)), x_test])\n",
    "    \n",
    "    beta = np.linalg.pinv(x_train_new.T @ x_train_new)@x_train_new.T @ y_train\n",
    "    y_pred = x_test_new @ beta\n",
    "    \n",
    "    r2 = r2_score(y_test, y_pred)\n",
    "    r2_scores.append(r2)\n",
    "    if r2>best_r2:\n",
    "        best_r2 = r2\n",
    "        best_beta = beta"
   ]
  },
  {
   "cell_type": "markdown",
   "id": "34906b5e",
   "metadata": {},
   "source": [
    "(e) Use the best value of (𝛽) matrix (for which R2_score is maximum), to train the \n",
    "regressor for 70% of data and test the performance for remaining 30% data.  "
   ]
  },
  {
   "cell_type": "code",
   "execution_count": 9,
   "id": "0345941d",
   "metadata": {},
   "outputs": [
    {
     "name": "stdout",
     "output_type": "stream",
     "text": [
      "0.9146818498916267\n"
     ]
    }
   ],
   "source": [
    "X_train, X_test, Y_train, Y_test = train_test_split(x, y, test_size=0.3, random_state=42)\n",
    "\n",
    "X_train_final = np.hstack([np.ones((X_train.shape[0], 1)), X_train])\n",
    "X_test_final = np.hstack([np.ones((X_test.shape[0], 1)), X_test])\n",
    "\n",
    "beta_final = np.linalg.pinv(X_train_final.T @ X_train_final) @ X_train_final.T @ Y_train\n",
    "Y_pred = X_test_final @ beta_final\n",
    "r2_final = r2_score(Y_test, Y_pred)\n",
    "\n",
    "print(r2_final)"
   ]
  },
  {
   "cell_type": "markdown",
   "id": "d597b7a0",
   "metadata": {},
   "source": [
    "Q2: Concept of Validation  set for Multiple  Linear Regression (Gradient Descent Optimization) "
   ]
  },
  {
   "cell_type": "markdown",
   "id": "8c011c29",
   "metadata": {},
   "source": [
    "Consider the same dataset of Q1, rather than dividing  the dataset into  five folds, divide  the dataset into training  set (56%),validation set (14%), and test set (30%). Consider four different values of learning rate i.e. {0.001,0.01,0.1,1}. Compute the values of regression coefficients for each value of learning rate after 1000 iterations. For each set of regression coefficients, compute R2_score for validation and test set and find the best value of regression coefficients."
   ]
  },
  {
   "cell_type": "code",
   "execution_count": 11,
   "id": "ad7883d9",
   "metadata": {},
   "outputs": [
    {
     "name": "stdout",
     "output_type": "stream",
     "text": [
      "LR: 0.001, Validation R2: -1.0428, Test R2: -0.9601\n",
      "LR: 0.01, Validation R2: 0.9199, Test R2: 0.9134\n",
      "LR: 0.1, Validation R2: 0.9200, Test R2: 0.9134\n",
      "LR: 1, Validation R2: 0.9200, Test R2: 0.9134\n",
      "\n",
      "Best Learning Rate: 0.1\n",
      "Best Beta Coefficients:\n",
      "[1232180.27200919  230645.88389435  165328.94019375  120045.00851908\n",
      "    2945.02108903  151375.22971285]\n"
     ]
    }
   ],
   "source": [
    "import numpy as np\n",
    "import pandas as pd\n",
    "from sklearn.model_selection import train_test_split\n",
    "from sklearn.metrics import r2_score\n",
    "from sklearn.preprocessing import StandardScaler\n",
    "\n",
    "data = pd.read_csv(\"USA_Housing.csv\")\n",
    "X = data.drop(columns=[\"Price\"])\n",
    "y = data[\"Price\"]\n",
    "\n",
    "scaler = StandardScaler()\n",
    "X = scaler.fit_transform(X)\n",
    "X_train, X_temp, y_train, y_temp = train_test_split(X, y, test_size=0.44, random_state=42)\n",
    "X_val, X_test, y_val, y_test = train_test_split(X_temp, y_temp, test_size=30/44, random_state=42)\n",
    "\n",
    "def gradient_descent(X, y, lr, iterations):\n",
    "    m, n = X.shape\n",
    "    X = np.c_[np.ones(m), X]\n",
    "    y = y.values.reshape(-1, 1)\n",
    "    beta = np.zeros((n + 1, 1))\n",
    "\n",
    "    for _ in range(iterations):\n",
    "        y_pred = X @ beta\n",
    "        error = y_pred - y\n",
    "        gradient = (X.T @ error) / m\n",
    "        beta -= lr * gradient\n",
    "    return beta\n",
    "\n",
    "def predict(X, beta):\n",
    "    m = X.shape[0]\n",
    "    X = np.c_[np.ones(m), X]\n",
    "    return X @ beta\n",
    "\n",
    "learning_rates = [0.001, 0.01, 0.1, 1]\n",
    "best_r2 = -np.inf\n",
    "best_beta = None\n",
    "best_lr = None\n",
    "\n",
    "for lr in learning_rates:\n",
    "    beta = gradient_descent(X_train, y_train, lr, iterations=1000)\n",
    "    y_val_pred = predict(X_val, beta)\n",
    "    y_test_pred = predict(X_test, beta)\n",
    "    r2_val = r2_score(y_val, y_val_pred)\n",
    "    r2_test = r2_score(y_test, y_test_pred)\n",
    "\n",
    "    print(f\"LR: {lr}, Validation R2: {r2_val:.4f}, Test R2: {r2_test:.4f}\")\n",
    "    if r2_val > best_r2:\n",
    "        best_r2 = r2_val\n",
    "        best_beta = beta\n",
    "        best_lr = lr\n",
    "\n",
    "print(f\"\\nBest Learning Rate: {best_lr}\")\n",
    "print(f\"Best Beta Coefficients:\\n{best_beta.flatten()}\")\n"
   ]
  }
 ],
 "metadata": {
  "kernelspec": {
   "display_name": "Python 3",
   "language": "python",
   "name": "python3"
  },
  "language_info": {
   "codemirror_mode": {
    "name": "ipython",
    "version": 3
   },
   "file_extension": ".py",
   "mimetype": "text/x-python",
   "name": "python",
   "nbconvert_exporter": "python",
   "pygments_lexer": "ipython3",
   "version": "3.13.0"
  }
 },
 "nbformat": 4,
 "nbformat_minor": 5
}
